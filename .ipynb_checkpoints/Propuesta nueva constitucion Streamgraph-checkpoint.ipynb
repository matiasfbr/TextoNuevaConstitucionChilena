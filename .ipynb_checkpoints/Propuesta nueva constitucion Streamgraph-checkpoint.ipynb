{
 "cells": [
  {
   "cell_type": "markdown",
   "id": "138637e1-7d2c-40f4-b10b-5df1136252c7",
   "metadata": {},
   "source": [
    "# Revisando el contenido de la Propuesta de nueva constitución"
   ]
  },
  {
   "cell_type": "markdown",
   "id": "4097d6f8-8937-4a9d-99d2-16fb8aff9e20",
   "metadata": {},
   "source": [
    "Este análisis está inspirado en el trabajo realizado en el ramo de Procesamiento de Lenguaje Natural.\n",
    "La idea es entender los principales temas de cada capítulo de la constitución y si estos coinciden con los títulos de cada uno de ellos."
   ]
  },
  {
   "cell_type": "markdown",
   "id": "f415f9df-e6b5-457e-a8ae-0c1d180575a4",
   "metadata": {},
   "source": [
    "## Importando librerías"
   ]
  },
  {
   "cell_type": "code",
   "execution_count": 1,
   "id": "8aa470cb-ecae-4b62-a698-03d47034de8e",
   "metadata": {},
   "outputs": [],
   "source": [
    "import pandas as pd\n",
    "import numpy as np\n",
    "import string\n",
    "from nltk import word_tokenize\n",
    "import re"
   ]
  },
  {
   "cell_type": "code",
   "execution_count": 2,
   "id": "11b1413f-bafd-4457-a09a-be305e3c5b1f",
   "metadata": {},
   "outputs": [],
   "source": [
    "import os"
   ]
  },
  {
   "cell_type": "code",
   "execution_count": 3,
   "id": "a5bbba31-7df6-4e00-a027-71ac97588893",
   "metadata": {},
   "outputs": [],
   "source": [
    "import networkx as nx"
   ]
  },
  {
   "cell_type": "code",
   "execution_count": 4,
   "id": "9d38880e-e176-4b5e-b183-ccbbdb194ee6",
   "metadata": {},
   "outputs": [],
   "source": [
    "from wordcloud import WordCloud\n",
    "import matplotlib.pyplot as plt\n",
    "from matplotlib.pyplot import text\n",
    "import seaborn as sns"
   ]
  },
  {
   "cell_type": "code",
   "execution_count": 5,
   "id": "d6f07cf5-9ea1-44b8-94d6-842923cc9314",
   "metadata": {},
   "outputs": [],
   "source": [
    "from collections import Counter"
   ]
  },
  {
   "cell_type": "code",
   "execution_count": 6,
   "id": "65054722-471d-478d-a0b7-c98ba547a19b",
   "metadata": {},
   "outputs": [],
   "source": [
    "import spacy\n",
    "nlp = spacy.load('es_core_news_sm')"
   ]
  },
  {
   "cell_type": "code",
   "execution_count": 7,
   "id": "b33da4fe-2438-46c9-9030-3873f6f0b5b4",
   "metadata": {},
   "outputs": [],
   "source": [
    "import warnings\n",
    "warnings.filterwarnings(\"ignore\")"
   ]
  },
  {
   "cell_type": "markdown",
   "id": "dd2a9e07-d6fb-4053-8381-8e89f436a36f",
   "metadata": {},
   "source": [
    "## Funciones"
   ]
  },
  {
   "cell_type": "code",
   "execution_count": 8,
   "id": "39bb75be-88ca-4dfa-878d-a7441ce659ac",
   "metadata": {},
   "outputs": [],
   "source": [
    "def delete_stopwords(text):\n",
    "    \"\"\"\n",
    "    Función para eliminar stopwords del texto\n",
    "    \"\"\"\n",
    "    doc = nlp(text)\n",
    "    return ' '.join([word.text for word in doc if word.text not in esp_stop])"
   ]
  },
  {
   "cell_type": "code",
   "execution_count": 9,
   "id": "6712e4aa-7fe2-4771-be0d-543aa60b5186",
   "metadata": {},
   "outputs": [],
   "source": [
    "def cleaner(df, text):\n",
    "    \"\"\"\n",
    "    Función para dejar las palabras en minúscula, eliminar números, puntuación, espacios y saltos de línea.\n",
    "    \"\"\"\n",
    "    df[text] = df[text].str.lower()\n",
    "    df[text] = df[text].apply(lambda x: re.sub(\"[0-9]\", '', str(x)))\n",
    "    df[text] = df[text].str.translate(str.maketrans(' ', ' ', string.punctuation))\n",
    "    df[text] = df[text].str.replace('\\n',' ')\n",
    "    df[text] = df[text].str.strip()\n",
    "    return df[text]"
   ]
  },
  {
   "cell_type": "code",
   "execution_count": 10,
   "id": "8275913c-d19d-42ca-9343-956f68477a72",
   "metadata": {},
   "outputs": [],
   "source": [
    "def wordcloud(data):\n",
    "    \"\"\"\n",
    "    Función para graficar un wordcloud\n",
    "    \"\"\"\n",
    "    wc = WordCloud(background_color='white',width=800, height=400, max_words=200, colormap = 'plasma').generate_from_frequencies(data)\n",
    "    plt.figure(figsize=(15, 10))\n",
    "    plt.imshow(wc, interpolation='bilinear')\n",
    "    plt.axis('off')\n",
    "    plt.show()"
   ]
  },
  {
   "cell_type": "markdown",
   "id": "97dd3fb3-3905-4ca0-84c6-bcf92e721450",
   "metadata": {
    "tags": []
   },
   "source": [
    "## Desarrollo"
   ]
  },
  {
   "cell_type": "code",
   "execution_count": 11,
   "id": "723f91c9-eabe-4da3-9458-2a24726dc3f9",
   "metadata": {},
   "outputs": [],
   "source": [
    "from nltk.corpus import stopwords\n",
    "esp_stop = stopwords.words('spanish')\n",
    "esp_stop = esp_stop + ['ser','tener','deber']"
   ]
  },
  {
   "cell_type": "markdown",
   "id": "170ebdd4-b953-4bfa-b7c0-93c144d9f0fb",
   "metadata": {},
   "source": [
    "## Llevando texto a dataframe"
   ]
  },
  {
   "cell_type": "markdown",
   "id": "2b56cad2-38e3-40a0-b72f-6db4edf357ae",
   "metadata": {},
   "source": [
    "### Cargando markdowns"
   ]
  },
  {
   "cell_type": "code",
   "execution_count": 12,
   "id": "7dfdab06-b556-4ac9-8560-b34658d8dd2e",
   "metadata": {},
   "outputs": [],
   "source": [
    "# Get the list of all files and directories\n",
    "path = \"Markdown/\"\n",
    "filelist = os.listdir(path)"
   ]
  },
  {
   "cell_type": "code",
   "execution_count": 13,
   "id": "1f996f3f-aa1e-492c-a325-e64dc341c96c",
   "metadata": {},
   "outputs": [],
   "source": [
    "filelist.sort()"
   ]
  },
  {
   "cell_type": "code",
   "execution_count": 14,
   "id": "3daa3d0c-50a1-4e13-9e2c-8bc93327a75f",
   "metadata": {},
   "outputs": [
    {
     "data": {
      "text/plain": [
       "['.ipynb_checkpoints',\n",
       " '00.md',\n",
       " '01.md',\n",
       " '02.md',\n",
       " '03.md',\n",
       " '04.md',\n",
       " '05.md',\n",
       " '06.md',\n",
       " '07.md',\n",
       " '08.md',\n",
       " '09.md',\n",
       " '10.md',\n",
       " '11.md',\n",
       " '12.md',\n",
       " '13.md']"
      ]
     },
     "execution_count": 14,
     "metadata": {},
     "output_type": "execute_result"
    }
   ],
   "source": [
    "filelist"
   ]
  },
  {
   "cell_type": "code",
   "execution_count": 15,
   "id": "995de83b-e422-4ef8-bd78-7a1e2c2a6e5c",
   "metadata": {},
   "outputs": [],
   "source": [
    "df_constitucion = pd.DataFrame()\n",
    "texto_total = ''\n",
    "\n",
    "for file in filelist[1:]:\n",
    "    with open(path+file, 'r', encoding = 'utf-8') as f:\n",
    "        text = f.read()\n",
    "        if text[-1:] != '\\n':\n",
    "            text = text+'\\n'\n",
    "    \n",
    "    texto_total = texto_total + text\n",
    "\n",
    "serie = texto_total.split('\\n')"
   ]
  },
  {
   "cell_type": "markdown",
   "id": "bff6e190-4a98-4989-96f8-4b047456d7b7",
   "metadata": {
    "tags": []
   },
   "source": [
    "### Llevando a dataframe"
   ]
  },
  {
   "cell_type": "code",
   "execution_count": 16,
   "id": "d28e38b2-64b2-4f60-97d9-168ec43068f2",
   "metadata": {
    "tags": []
   },
   "outputs": [],
   "source": [
    "df = pd.DataFrame({'texto':serie})\n",
    "\n",
    "df['capitulo'] = np.where(df['texto'].str.contains('# Preámbulo'),df['texto'],np.nan)\n",
    "df['capitulo'] = np.where(df['texto'].str.contains('# Disposiciones Transitorias'),df['texto'],df['capitulo'])\n",
    "df['capitulo'] = np.where(df['texto'].str.contains('# Convención Constitucional'),df['texto'],df['capitulo'])\n",
    "df['capitulo'] = np.where(df['texto'].str.contains('Capítulo'),df['texto'],df['capitulo'])\n",
    "\n",
    "#Para asegurar que aparezca el capitulo IV\n",
    "df['capitulo'] = np.where(df['texto'].str.contains('Capitulo'),df['texto'],df['capitulo'])\n",
    "df['articulo'] = np.where(df['texto'].str.contains('### Artículo'),df['texto'],np.nan)\n",
    "df['texto'] = np.where(df['texto']=='', np.nan, df['texto'])\n",
    "df['texto'] = np.where(df['texto']==df['articulo'], np.nan, df['texto'])\n",
    "df['texto'] = np.where(df['texto']==df['capitulo'], np.nan, df['texto'])\n",
    "# Agregar numeral y ordinal (??)\n",
    "\n",
    "\n",
    "df['capitulo'].fillna(method='pad', inplace=True)\n",
    "df['articulo'].fillna(method='pad', inplace=True)\n"
   ]
  },
  {
   "cell_type": "code",
   "execution_count": 17,
   "id": "f4e33a46-9b83-464b-8376-2532d6ea37ac",
   "metadata": {},
   "outputs": [],
   "source": [
    "df.dropna(subset = 'texto', inplace = True)"
   ]
  },
  {
   "cell_type": "code",
   "execution_count": 18,
   "id": "c91f7506-b83d-406d-9b5b-af93ef3a050a",
   "metadata": {},
   "outputs": [],
   "source": [
    "df['nro_capitulo'] = df['capitulo'].str.split(':', expand = True)[0]\n",
    "df['nro_capitulo'] = df['nro_capitulo'].str.replace('# ','')\n",
    "df['titulo_capitulo'] = df['capitulo'].str.split(':', expand = True)[1]\n",
    "df['titulo_capitulo'] = df['titulo_capitulo'].str.strip()\n",
    "df['articulo'] = df['articulo'].str.replace('### ','')\n",
    "\n",
    "df['articulo'] = np.where(df['nro_capitulo']=='Convención Constitucional',np.nan,df['articulo'])\n",
    "df['titulo_capitulo'] = np.where(df['titulo_capitulo'].isna(), df['nro_capitulo'], df['titulo_capitulo'])"
   ]
  },
  {
   "cell_type": "code",
   "execution_count": 19,
   "id": "b0de7ea0-db2c-4ffb-9224-2e950a5ef88f",
   "metadata": {},
   "outputs": [],
   "source": [
    "df = df[['nro_capitulo','titulo_capitulo','articulo','texto']]\n",
    "df.rename(columns = {'nro_capitulo':'capitulo'}, inplace = True)"
   ]
  },
  {
   "cell_type": "code",
   "execution_count": 20,
   "id": "d25e919a-8d42-4b73-95b4-fedfb7e4630d",
   "metadata": {},
   "outputs": [],
   "source": [
    "df['q_palabras'] = df['texto'].apply(lambda x: len(x.split()))"
   ]
  },
  {
   "cell_type": "code",
   "execution_count": 21,
   "id": "9ba13f4e-f429-4ada-b376-5cecec42ffcc",
   "metadata": {},
   "outputs": [
    {
     "data": {
      "text/html": [
       "<div>\n",
       "<style scoped>\n",
       "    .dataframe tbody tr th:only-of-type {\n",
       "        vertical-align: middle;\n",
       "    }\n",
       "\n",
       "    .dataframe tbody tr th {\n",
       "        vertical-align: top;\n",
       "    }\n",
       "\n",
       "    .dataframe thead th {\n",
       "        text-align: right;\n",
       "    }\n",
       "</style>\n",
       "<table border=\"1\" class=\"dataframe\">\n",
       "  <thead>\n",
       "    <tr style=\"text-align: right;\">\n",
       "      <th></th>\n",
       "      <th>capitulo</th>\n",
       "      <th>titulo_capitulo</th>\n",
       "      <th>articulo</th>\n",
       "      <th>texto</th>\n",
       "      <th>q_palabras</th>\n",
       "    </tr>\n",
       "  </thead>\n",
       "  <tbody>\n",
       "    <tr>\n",
       "      <th>2</th>\n",
       "      <td>Preámbulo</td>\n",
       "      <td>Preámbulo</td>\n",
       "      <td>NaN</td>\n",
       "      <td>Nosotras y nosotros, el pueblo de Chile, confo...</td>\n",
       "      <td>24</td>\n",
       "    </tr>\n",
       "    <tr>\n",
       "      <th>7</th>\n",
       "      <td>Capítulo I</td>\n",
       "      <td>Principios y Disposiciones Generales</td>\n",
       "      <td>Artículo 1</td>\n",
       "      <td>1. Chile es un Estado social y democrático de ...</td>\n",
       "      <td>16</td>\n",
       "    </tr>\n",
       "    <tr>\n",
       "      <th>8</th>\n",
       "      <td>Capítulo I</td>\n",
       "      <td>Principios y Disposiciones Generales</td>\n",
       "      <td>Artículo 1</td>\n",
       "      <td>2. Se constituye como una república solidaria....</td>\n",
       "      <td>37</td>\n",
       "    </tr>\n",
       "    <tr>\n",
       "      <th>9</th>\n",
       "      <td>Capítulo I</td>\n",
       "      <td>Principios y Disposiciones Generales</td>\n",
       "      <td>Artículo 1</td>\n",
       "      <td>3. La protección y garantía de los derechos hu...</td>\n",
       "      <td>62</td>\n",
       "    </tr>\n",
       "    <tr>\n",
       "      <th>13</th>\n",
       "      <td>Capítulo I</td>\n",
       "      <td>Principios y Disposiciones Generales</td>\n",
       "      <td>Artículo 2</td>\n",
       "      <td>1. La soberanía reside en el pueblo de Chile, ...</td>\n",
       "      <td>36</td>\n",
       "    </tr>\n",
       "    <tr>\n",
       "      <th>...</th>\n",
       "      <td>...</td>\n",
       "      <td>...</td>\n",
       "      <td>...</td>\n",
       "      <td>...</td>\n",
       "      <td>...</td>\n",
       "    </tr>\n",
       "    <tr>\n",
       "      <th>3188</th>\n",
       "      <td>Convención Constitucional</td>\n",
       "      <td>Convención Constitucional</td>\n",
       "      <td>NaN</td>\n",
       "      <td>Carolina Vilches Fuenzalida</td>\n",
       "      <td>3</td>\n",
       "    </tr>\n",
       "    <tr>\n",
       "      <th>3190</th>\n",
       "      <td>Convención Constitucional</td>\n",
       "      <td>Convención Constitucional</td>\n",
       "      <td>NaN</td>\n",
       "      <td>Ingrid Villena Narbona</td>\n",
       "      <td>3</td>\n",
       "    </tr>\n",
       "    <tr>\n",
       "      <th>3192</th>\n",
       "      <td>Convención Constitucional</td>\n",
       "      <td>Convención Constitucional</td>\n",
       "      <td>NaN</td>\n",
       "      <td>Manuel Woldarsky González</td>\n",
       "      <td>3</td>\n",
       "    </tr>\n",
       "    <tr>\n",
       "      <th>3194</th>\n",
       "      <td>Convención Constitucional</td>\n",
       "      <td>Convención Constitucional</td>\n",
       "      <td>NaN</td>\n",
       "      <td>Camila Zárate Zárate</td>\n",
       "      <td>3</td>\n",
       "    </tr>\n",
       "    <tr>\n",
       "      <th>3196</th>\n",
       "      <td>Convención Constitucional</td>\n",
       "      <td>Convención Constitucional</td>\n",
       "      <td>NaN</td>\n",
       "      <td>Luis Arturo Zúñiga Jory</td>\n",
       "      <td>4</td>\n",
       "    </tr>\n",
       "  </tbody>\n",
       "</table>\n",
       "<p>1923 rows × 5 columns</p>\n",
       "</div>"
      ],
      "text/plain": [
       "                       capitulo                       titulo_capitulo  \\\n",
       "2                     Preámbulo                             Preámbulo   \n",
       "7                    Capítulo I  Principios y Disposiciones Generales   \n",
       "8                    Capítulo I  Principios y Disposiciones Generales   \n",
       "9                    Capítulo I  Principios y Disposiciones Generales   \n",
       "13                   Capítulo I  Principios y Disposiciones Generales   \n",
       "...                         ...                                   ...   \n",
       "3188  Convención Constitucional             Convención Constitucional   \n",
       "3190  Convención Constitucional             Convención Constitucional   \n",
       "3192  Convención Constitucional             Convención Constitucional   \n",
       "3194  Convención Constitucional             Convención Constitucional   \n",
       "3196  Convención Constitucional             Convención Constitucional   \n",
       "\n",
       "        articulo                                              texto  \\\n",
       "2            NaN  Nosotras y nosotros, el pueblo de Chile, confo...   \n",
       "7     Artículo 1  1. Chile es un Estado social y democrático de ...   \n",
       "8     Artículo 1  2. Se constituye como una república solidaria....   \n",
       "9     Artículo 1  3. La protección y garantía de los derechos hu...   \n",
       "13    Artículo 2  1. La soberanía reside en el pueblo de Chile, ...   \n",
       "...          ...                                                ...   \n",
       "3188         NaN                        Carolina Vilches Fuenzalida   \n",
       "3190         NaN                             Ingrid Villena Narbona   \n",
       "3192         NaN                         Manuel Woldarsky González   \n",
       "3194         NaN                             Camila Zárate Zárate   \n",
       "3196         NaN                          Luis Arturo Zúñiga Jory   \n",
       "\n",
       "      q_palabras  \n",
       "2             24  \n",
       "7             16  \n",
       "8             37  \n",
       "9             62  \n",
       "13            36  \n",
       "...          ...  \n",
       "3188           3  \n",
       "3190           3  \n",
       "3192           3  \n",
       "3194           3  \n",
       "3196           4  \n",
       "\n",
       "[1923 rows x 5 columns]"
      ]
     },
     "execution_count": 21,
     "metadata": {},
     "output_type": "execute_result"
    }
   ],
   "source": [
    "df"
   ]
  },
  {
   "cell_type": "markdown",
   "id": "57106265-ab6b-4c60-8b8f-dd8753e9d7a8",
   "metadata": {
    "tags": []
   },
   "source": [
    "## Limpieza"
   ]
  },
  {
   "cell_type": "code",
   "execution_count": 22,
   "id": "4fe8fcbb-ed6e-46cc-831c-0a2ee3001308",
   "metadata": {},
   "outputs": [],
   "source": [
    "df['texto'] = cleaner(df, 'texto')"
   ]
  },
  {
   "cell_type": "code",
   "execution_count": 23,
   "id": "b3bf6f53-ccd2-491f-a48d-0392b3bd2d12",
   "metadata": {},
   "outputs": [],
   "source": [
    "df['q_palabras'] = df['texto'].apply(lambda x: len(x.split()))"
   ]
  },
  {
   "cell_type": "code",
   "execution_count": 24,
   "id": "30b05792-2f67-491f-8267-29f1de886901",
   "metadata": {},
   "outputs": [
    {
     "data": {
      "text/plain": [
       "<AxesSubplot:xlabel='q_palabras', ylabel='Density'>"
      ]
     },
     "execution_count": 24,
     "metadata": {},
     "output_type": "execute_result"
    },
    {
     "data": {
      "image/png": "[encoded data removed]",
      "text/plain": [
       "<Figure size 432x288 with 1 Axes>"
      ]
     },
     "metadata": {
      "needs_background": "light"
     },
     "output_type": "display_data"
    }
   ],
   "source": [
    "sns.distplot(df[df['q_palabras']>4]['q_palabras'])"
   ]
  },
  {
   "cell_type": "code",
   "execution_count": 25,
   "id": "5b3cd426-1117-480e-b235-8a3776427554",
   "metadata": {},
   "outputs": [],
   "source": [
    "capitulos = list(df['capitulo'].value_counts().index)"
   ]
  },
  {
   "cell_type": "code",
   "execution_count": 26,
   "id": "f83db9c9-ca44-4281-a8c2-a7de320b7ddc",
   "metadata": {},
   "outputs": [],
   "source": [
    "orden = [\n",
    "        'Preámbulo',\n",
    "        'Principios y Disposiciones Generales',\n",
    "        'Derechos Fundamentales y Garantías',\n",
    "        'Naturaleza y Medioambiente',\n",
    "        'Participación Democrática',\n",
    "        'Buen Gobierno y Función Pública',\n",
    "        'Estado Regional y Organización Territorial',\n",
    "        'Poder Legislativo',\n",
    "        'Poder Ejecutivo',\n",
    "        'Sistemas de Justicia',\n",
    "        'Órganos Autónomos Constitucionales',\n",
    "        'Reforma y Reemplazo de la Constitución',\n",
    "        'Disposiciones Transitorias'\n",
    "    ]"
   ]
  },
  {
   "cell_type": "markdown",
   "id": "b8e285f7-632a-4102-b6f0-133eb4e5dcb8",
   "metadata": {},
   "source": [
    "## Gráficos"
   ]
  },
  {
   "cell_type": "markdown",
   "id": "88cf34ca-51b4-4252-b5c2-3aa842a2aa4a",
   "metadata": {},
   "source": [
    "### ¿Qué tan largo es cada capítulo de la propuesta de constitución?"
   ]
  },
  {
   "cell_type": "code",
   "execution_count": 27,
   "id": "8d9a6fc5-6cb3-4e92-8df1-9f8b8e3b3b21",
   "metadata": {},
   "outputs": [
    {
     "data": {
      "image/png": "[encoded data removed]",
      "text/plain": [
       "<Figure size 720x720 with 1 Axes>"
      ]
     },
     "metadata": {
      "needs_background": "light"
     },
     "output_type": "display_data"
    }
   ],
   "source": [
    "fig, ax = plt.subplots(1,1, figsize = (10,10))\n",
    "\n",
    "aux = df.groupby(['capitulo','titulo_capitulo'], dropna = False)['q_palabras'].sum().reset_index()\n",
    "data = pd.Series(data = dict(zip(aux['titulo_capitulo'],aux['q_palabras'])), index = aux['titulo_capitulo'])\n",
    "pal = sns.color_palette(\"Blues\", len(data))\n",
    "rank = data.argsort().argsort()\n",
    "\n",
    "sns.barplot(\n",
    "    y =  data.index,\n",
    "    x = data,\n",
    "    order = orden,\n",
    "    palette = np.array(pal[:])[rank],\n",
    "    estimator = np.sum, \n",
    "    ax = ax\n",
    ")\n",
    "\n",
    "\n",
    "ax.set_title(\n",
    "    '¿Qué tan largo es cada capítulo de la propuesta de constitución?\\n',\n",
    "    x = 0,\n",
    "    y = 1,\n",
    "    fontsize = 16,\n",
    "    ha = 'left',\n",
    "    va = 'baseline'\n",
    ")\n",
    "\n",
    "ax.set_ylabel('')\n",
    "ax.set_xlabel('Cantidad de palabras')\n",
    "ax.annotate(xy = (0,0), text = 'Creado por: @matiasfbr', xytext = (9000,12));"
   ]
  },
  {
   "cell_type": "markdown",
   "id": "bbde8fe7-dd4a-4715-91a9-ac7289ea4563",
   "metadata": {},
   "source": [
    "### ¿Cuán dispersos son los parrafos por capítulo?"
   ]
  },
  {
   "cell_type": "code",
   "execution_count": 28,
   "id": "fcf3cb3f-f52c-4406-9b06-6094bdc3d647",
   "metadata": {
    "tags": []
   },
   "outputs": [
    {
     "data": {
      "image/png": "[encoded data removed]",
      "text/plain": [
       "<Figure size 720x720 with 1 Axes>"
      ]
     },
     "metadata": {
      "needs_background": "light"
     },
     "output_type": "display_data"
    }
   ],
   "source": [
    "fig, ax = plt.subplots(1,1, figsize = (10,10))\n",
    "\n",
    "sns.boxplot(\n",
    "    data = df,\n",
    "    y = 'titulo_capitulo',\n",
    "    x = 'q_palabras',\n",
    "    order = orden,\n",
    "    ax = ax\n",
    ")\n",
    "\n",
    "\n",
    "ax.set_title(\n",
    "    '¿Cuán dispersos son los parrafos por capítulo?\\n',\n",
    "    x = 0,\n",
    "    y = 1,\n",
    "    fontsize = 16,\n",
    "    ha = 'left',\n",
    "    va = 'baseline'\n",
    ")\n",
    "\n",
    "ax.set_ylabel('')\n",
    "ax.set_xlabel('Cantidad de palabras')\n",
    "ax.annotate(xy = (0,0), text = 'Creado por: @matiasfbr', xytext = (140,11));"
   ]
  },
  {
   "cell_type": "markdown",
   "id": "20755353-9af7-44a3-897e-65350e733949",
   "metadata": {},
   "source": [
    "## Wordclouds con trigramas"
   ]
  },
  {
   "cell_type": "markdown",
   "id": "ca35fb7a-f8ad-48fe-b64e-165981cf5587",
   "metadata": {},
   "source": [
    "### Texto completo"
   ]
  },
  {
   "cell_type": "code",
   "execution_count": 29,
   "id": "7eb6b649-959b-4094-87c0-63dd66270863",
   "metadata": {},
   "outputs": [],
   "source": [
    "corpus_token = [word_tokenize(texto) for texto in df.texto]\n",
    "\n",
    "texto_trigrama = []\n",
    "\n",
    "for lista in corpus_token:\n",
    "    for i, palabra in enumerate(lista):\n",
    "        if i < len(lista)-2:\n",
    "            texto_trigrama.append(lista[i] + ' ' + lista[i+1] + ' ' + lista[i+2])\n",
    "            \n",
    "dict_counter = Counter(texto_trigrama)"
   ]
  },
  {
   "cell_type": "code",
   "execution_count": null,
   "id": "10b6ab5a-5d50-4461-ada4-df191fb0dd00",
   "metadata": {},
   "outputs": [],
   "source": [
    "tags = []\n",
    "\n",
    "for i in list(dict_counter.keys()):\n",
    "    doc = nlp(i)\n",
    "    tag = [token.tag_ for token in doc]\n",
    "    tags.append(tag)\n",
    "    \n",
    "grams = dict(zip(dict_counter.keys(), tags))\n",
    "\n",
    "lista = []\n",
    "for k, v in grams.items():\n",
    "    if v == ['NOUN','ADP','NOUN']:\n",
    "        lista.append(k)\n",
    "        \n",
    "dict_token = {}\n",
    "\n",
    "for i in dict_counter.items():\n",
    "    if i[0] in lista:\n",
    "        dict_token.update({i[0]:i[1]})\n",
    "        \n",
    "wordcloud(dict_token)"
   ]
  },
  {
   "cell_type": "markdown",
   "id": "92844309-6ee5-4a4e-8f17-2574f56ff87c",
   "metadata": {},
   "source": [
    "Ordenando el diccionario de trigramas de mayor a menor"
   ]
  },
  {
   "cell_type": "code",
   "execution_count": null,
   "id": "29f85ccf-9535-4c86-b6b1-482753357b3e",
   "metadata": {},
   "outputs": [],
   "source": [
    "trigramas_sorted = {k: v for k, v in sorted(dict_token.items(), key=lambda item: item[1], reverse = True)}"
   ]
  },
  {
   "cell_type": "markdown",
   "id": "af0384eb-6c9f-41c7-a2fe-45282d3d3746",
   "metadata": {},
   "source": [
    "Obteniendo el top10 de trigramas que más aparecen en el documento"
   ]
  },
  {
   "cell_type": "code",
   "execution_count": null,
   "id": "bf73e192-e2aa-4e92-97f8-4347e38ecc0f",
   "metadata": {},
   "outputs": [],
   "source": [
    "top_trigramas = []\n",
    "n = 10\n",
    "\n",
    "for i,v in enumerate(trigramas_sorted.items()):\n",
    "    if i < n:\n",
    "        top_trigramas.append(v)"
   ]
  },
  {
   "cell_type": "markdown",
   "id": "6ed9382f-1fbf-47b7-a652-39f9c75dea16",
   "metadata": {},
   "source": [
    "Por lo tanto el top 10 de conceptos más recurrentes dentro del texto es:"
   ]
  },
  {
   "cell_type": "code",
   "execution_count": null,
   "id": "5303a7d0-3282-45aa-b832-e670a3fb5af3",
   "metadata": {},
   "outputs": [],
   "source": [
    "top_trigramas"
   ]
  },
  {
   "cell_type": "markdown",
   "id": "ff2867d7-c88b-49a4-b32b-830a2b387639",
   "metadata": {},
   "source": [
    "Rescatando el trigrama, para poder buscarlo dentro de cada parrafo"
   ]
  },
  {
   "cell_type": "code",
   "execution_count": null,
   "id": "d6e13d03-b07c-4b27-9588-996f28232f80",
   "metadata": {},
   "outputs": [],
   "source": [
    "trigramas = []\n",
    "\n",
    "for i in top_trigramas:\n",
    "    trigramas.append(i[0])"
   ]
  },
  {
   "cell_type": "markdown",
   "id": "e2d9cf25-10f4-41f8-9619-8cd8fa0c5477",
   "metadata": {},
   "source": [
    "Recorriendo el trigrama para ver si contiene cada uno de los 10 conceptos seleccionados"
   ]
  },
  {
   "cell_type": "code",
   "execution_count": null,
   "id": "18406e0f-3747-4404-af74-2846015c1865",
   "metadata": {},
   "outputs": [],
   "source": [
    "for i in trigramas:\n",
    "    df[i] = np.where(df['texto'].str.contains(i), 1, 0)"
   ]
  },
  {
   "cell_type": "markdown",
   "id": "be3a66ca-3489-4301-974e-6bb46747a1c7",
   "metadata": {},
   "source": [
    "Separamos la información y la agrupamos por capitulo"
   ]
  },
  {
   "cell_type": "code",
   "execution_count": null,
   "id": "2c0ed288-aa9c-40f6-88d6-84a83e138133",
   "metadata": {},
   "outputs": [],
   "source": [
    "df_stream = df.groupby(['capitulo','titulo_capitulo'])[\n",
    "    'congreso de diputadas',\n",
    "    'entrada en vigencia', \n",
    "    'proyecto de ley',\n",
    "    'ley de presupuestos', \n",
    "    'fuerza de ley',\n",
    "    'calificador de elecciones',\n",
    "    'tribunales de justicia', \n",
    "    'cortes de apelaciones', \n",
    "    'proyectos de ley',\n",
    "    'ejercicio del derecho'\n",
    "].sum()\n"
   ]
  },
  {
   "cell_type": "markdown",
   "id": "7c14894e-3711-4d0c-a378-b9413f111241",
   "metadata": {},
   "source": [
    "Quitando el capítulo de la Convención Constitucional"
   ]
  },
  {
   "cell_type": "code",
   "execution_count": null,
   "id": "8f00b996-8509-4ffb-98a0-debcae9aaf87",
   "metadata": {},
   "outputs": [],
   "source": [
    "df_stream.drop(index = 'Convención Constitucional', inplace = True)"
   ]
  },
  {
   "cell_type": "code",
   "execution_count": null,
   "id": "c72bee69-ff8d-4da7-9d5e-44c31c7c9bc7",
   "metadata": {},
   "outputs": [],
   "source": [
    "df_stream = df_stream.reset_index()"
   ]
  },
  {
   "cell_type": "code",
   "execution_count": null,
   "id": "f5e81dac-bf04-4bbf-b8b0-22601f9b1ba0",
   "metadata": {},
   "outputs": [],
   "source": [
    "df_stream['proyectos de ley'] = df_stream[['proyecto de ley','proyectos de ley']].sum(axis = 1)\n",
    "df_stream.drop(columns = 'proyecto de ley', inplace = True)"
   ]
  },
  {
   "cell_type": "markdown",
   "id": "e3bb001f-6481-401d-b18f-e3aa3f28bc9c",
   "metadata": {},
   "source": [
    "Quitando proyecto de ley del trigrama, ya que juntamos todo en proyectos de ley"
   ]
  },
  {
   "cell_type": "code",
   "execution_count": null,
   "id": "4e58e33e-f7e9-45bb-99a1-ecb13eaecd53",
   "metadata": {},
   "outputs": [],
   "source": [
    "trigramas.remove('proyecto de ley')\n",
    "trigramas"
   ]
  },
  {
   "cell_type": "code",
   "execution_count": null,
   "id": "632f41e5-facb-453d-ae4b-b4422c96c729",
   "metadata": {},
   "outputs": [],
   "source": [
    "capitulos = [\n",
    "        'Preámbulo',\n",
    "        'Principios y Disposiciones Generales',\n",
    "        'Derechos Fundamentales y Garantías',\n",
    "        'Naturaleza y Medioambiente',\n",
    "        'Participación Democrática',\n",
    "        'Buen Gobierno y Función Pública',\n",
    "        'Estado Regional y Organización Territorial',\n",
    "        'Poder Legislativo',\n",
    "        'Poder Ejecutivo',\n",
    "        'Sistemas de Justicia',\n",
    "        'Órganos Autónomos Constitucionales',\n",
    "        'Reforma y Reemplazo de la Constitución',\n",
    "        'Disposiciones Transitorias'\n",
    "    ]\n",
    "\n",
    "ocurrencias_por_tema = {}\n",
    "\n",
    "for i in trigramas:\n",
    "    data = {i:list(df_stream[i].values)}\n",
    "    ocurrencias_por_tema.update(data)"
   ]
  },
  {
   "cell_type": "markdown",
   "id": "9e541544-4625-4a44-be03-74ae8cf7e955",
   "metadata": {},
   "source": [
    "Definiendo la paleta de colores"
   ]
  },
  {
   "cell_type": "code",
   "execution_count": null,
   "id": "910c4d42-1c20-44a4-9c46-68ed4b21fcd5",
   "metadata": {},
   "outputs": [],
   "source": [
    "pal = sns.color_palette(\"tab20c\", len(capitulos))"
   ]
  },
  {
   "cell_type": "code",
   "execution_count": null,
   "id": "22a225a5-0784-4984-bc81-8d6f78318990",
   "metadata": {},
   "outputs": [],
   "source": [
    "fig, ax = plt.subplots(1,1, figsize = (15,5))\n",
    "ax.stackplot(\n",
    "    capitulos,\n",
    "    ocurrencias_por_tema.values(),\n",
    "    labels=ocurrencias_por_tema.keys(),\n",
    "    baseline = 'wiggle',\n",
    "    alpha=0.8,\n",
    "    colors = pal\n",
    "\n",
    ")\n",
    "\n",
    "ax.legend(loc=(1.04,0))\n",
    "ax.set_xticklabels(capitulos, rotation = 90)\n",
    "ax.set_title('¿Dónde encontramos cada uno de estos temas en la Propuesta de Nueva Constitución?')\n",
    "ax.set_xlabel('Capitulos')\n",
    "ax.set_ylabel('Cantidad de veces que aparece')\n",
    "ax.get_yaxis().set_visible(False)\n",
    "plt.show()"
   ]
  },
  {
   "cell_type": "code",
   "execution_count": null,
   "id": "7c18edbe-6fc9-4568-acf0-86f742f925f2",
   "metadata": {},
   "outputs": [],
   "source": [
    "for i in trigramas:\n",
    "    df_stream[i] = df_stream[i]/df_stream[i].sum()"
   ]
  },
  {
   "cell_type": "code",
   "execution_count": null,
   "id": "a1037141-7846-45b4-a252-6bf4e9b66e35",
   "metadata": {},
   "outputs": [],
   "source": [
    "ocurrencias_por_tema = {}\n",
    "\n",
    "for i in trigramas:\n",
    "    data = {i:list(df_stream[i].values)}\n",
    "    ocurrencias_por_tema.update(data)"
   ]
  },
  {
   "cell_type": "code",
   "execution_count": null,
   "id": "606b3f87-fa8b-494c-bb76-ec7d7b0189a3",
   "metadata": {},
   "outputs": [],
   "source": [
    "fig, ax = plt.subplots(1,1, figsize = (20,5))\n",
    "ax.stackplot(\n",
    "    capitulos,\n",
    "    ocurrencias_por_tema.values(),\n",
    "    labels=ocurrencias_por_tema.keys(),\n",
    "    baseline='wiggle',\n",
    "    alpha=0.8,\n",
    "    colors = pal\n",
    "\n",
    ")\n",
    "\n",
    "ax.legend(loc=(1.01,0.3))\n",
    "ax.set_xticklabels(capitulos, rotation = 20, ha = 'right')\n",
    "ax.set_title('¿Dónde encontramos cada uno de estos temas en la Propuesta de Nueva Constitución?', fontsize = 16)\n",
    "ax.set_xlabel('Capitulos')\n",
    "#ax.set_ylabel('Cantidad de veces que aparece')\n",
    "ax.get_yaxis().set_visible(False)\n",
    "\n",
    "plt.show()"
   ]
  }
 ],
 "metadata": {
  "kernelspec": {
   "display_name": "NLP",
   "language": "python",
   "name": "nlp"
  },
  "language_info": {
   "codemirror_mode": {
    "name": "ipython",
    "version": 3
   },
   "file_extension": ".py",
   "mimetype": "text/x-python",
   "name": "python",
   "nbconvert_exporter": "python",
   "pygments_lexer": "ipython3",
   "version": "3.10.4"
  }
 },
 "nbformat": 4,
 "nbformat_minor": 5
}
